{
 "cells": [
  {
   "cell_type": "markdown",
   "metadata": {},
   "source": [
    "# Getting Started with NumPy - Lab"
   ]
  },
  {
   "cell_type": "markdown",
   "metadata": {},
   "source": [
    "## Introduction"
   ]
  },
  {
   "cell_type": "markdown",
   "metadata": {},
   "source": [
    "Now that we have introduced NumPy, let's put it to practice. In this lab, you are going to be creating arrays, performing operations on them, and returning new arrays all using the NumPy library. Let's get started!"
   ]
  },
  {
   "cell_type": "markdown",
   "metadata": {},
   "source": [
    "## Objectives\n",
    "\n",
    "You will be able to: \n",
    "\n",
    "- Instantiate a numpy array with specified values \n",
    "- Use broadcasting to perform a math operation on an entire numpy array \n"
   ]
  },
  {
   "cell_type": "markdown",
   "metadata": {},
   "source": [
    "## Import `NumPy` under the standard alias"
   ]
  },
  {
   "cell_type": "code",
   "execution_count": 1,
   "metadata": {},
   "outputs": [
    {
     "name": "stdout",
     "output_type": "stream",
     "text": [
      "NumPy Array: [1 2 3 4 5]\n",
      "Squared Array: [ 1  4  9 16 25]\n"
     ]
    }
   ],
   "source": [
    "# Import numpy using the standard alias\n",
    "import numpy as np\n",
    "\n",
    "# Create a NumPy array\n",
    "array = np.array([1, 2, 3, 4, 5])\n",
    "\n",
    "# Print the array\n",
    "print(\"NumPy Array:\", array)\n",
    "\n",
    "# Perform a simple operation\n",
    "array_squared = np.square(array)\n",
    "print(\"Squared Array:\", array_squared)"
   ]
  },
  {
   "cell_type": "markdown",
   "metadata": {},
   "source": [
    "## Generate some mock data"
   ]
  },
  {
   "cell_type": "markdown",
   "metadata": {},
   "source": [
    "Create a NumPy array for each of the following:\n",
    "    1. Using a range\n",
    "    2. Using a Python list\n",
    "    \n",
    "Below, create a list in Python that has 5 elements (i.e. [0,1,2,3,4]) and assign it to the variable `py_list`. \n",
    "\n",
    "Next, do the same, but instead of a list, create a range with 5 elements and assign it to the variable, `py_range`.\n",
    "\n",
    "Finally, use the list and range to create NumPy arrays and assign the array from list to the variable `array_from_list`, and the array from the range to the variable `array_from_range`."
   ]
  },
  {
   "cell_type": "code",
   "execution_count": 2,
   "metadata": {},
   "outputs": [
    {
     "name": "stdout",
     "output_type": "stream",
     "text": [
      "Python List: [0, 1, 2, 3, 4]\n",
      "Python Range: [0, 1, 2, 3, 4]\n",
      "Array from List: [0 1 2 3 4]\n",
      "Array from Range: [0 1 2 3 4]\n"
     ]
    }
   ],
   "source": [
    "# Your code here\n",
    "# Create a Python list with 5 elements\n",
    "py_list = [0, 1, 2, 3, 4]\n",
    "\n",
    "# Create a range with 5 elements\n",
    "py_range = range(5)\n",
    "\n",
    "# Convert the list to a NumPy array\n",
    "array_from_list = np.array(py_list)\n",
    "\n",
    "# Convert the range to a NumPy array\n",
    "array_from_range = np.array(py_range)\n",
    "\n",
    "# Print the results to confirm\n",
    "print(\"Python List:\", py_list)\n",
    "print(\"Python Range:\", list(py_range))  # Convert range to list for printing\n",
    "print(\"Array from List:\", array_from_list)\n",
    "print(\"Array from Range:\", array_from_range)"
   ]
  },
  {
   "cell_type": "markdown",
   "metadata": {},
   "source": [
    "Next, we have a list of heights and weights and we'd like to use them to create a collection of BMIs. However, they are both in inches and pounds (imperial system), respectively. \n",
    "\n",
    "Let's use what we know to create NumPy arrays with the metric equivalent values (height in meters & weight in kg).\n",
    "\n",
    "> **Remember:** *NumPy can make these calculations a lot easier and with less code than a list!*"
   ]
  },
  {
   "cell_type": "markdown",
   "metadata": {},
   "source": [
    "> 1.0 inch = 0.0254 meters\n",
    "\n",
    "> 2.2046 lbs = 1 kilogram"
   ]
  },
  {
   "cell_type": "code",
   "execution_count": 5,
   "metadata": {},
   "outputs": [
    {
     "name": "stdout",
     "output_type": "stream",
     "text": [
      "Array of Weights in Pounds: [150 140 220 205 265]\n",
      "Array of Weights in Kilograms: [ 68.03955366  63.50358342  99.79134537  92.98739    120.20321147]\n"
     ]
    }
   ],
   "source": [
    "# Use the conversion rate for turning height in inches to meters\n",
    "list_height_inches = [65, 68, 73, 75, 78]\n",
    "\n",
    "# Your code here\n",
    "# Convert the list to a NumPy array\n",
    "array_weight_pounds = np.array(list_weight_pounds)\n",
    "\n",
    "# Convert weights from pounds to kilograms\n",
    "array_weight_kg = array_weight_pounds / 2.2046\n",
    "\n",
    "# Print the results to confirm\n",
    "print(\"Array of Weights in Pounds:\", array_weight_pounds)\n",
    "print(\"Array of Weights in Kilograms:\", array_weight_kg)\n",
    "array_height_inches = None\n",
    "array_height_meters = None"
   ]
  },
  {
   "cell_type": "code",
   "execution_count": 6,
   "metadata": {},
   "outputs": [
    {
     "name": "stdout",
     "output_type": "stream",
     "text": [
      "Array of Weights in Pounds: [150 140 220 205 265]\n",
      "Array of Weights in Kilograms: [ 68.03955366  63.50358342  99.79134537  92.98739    120.20321147]\n"
     ]
    }
   ],
   "source": [
    "# Use the conversion rate for turning weight in pounds to kilograms\n",
    "list_weight_pounds = [150, 140, 220, 205, 265]\n",
    "\n",
    "# List of weights in pounds\n",
    "list_weight_pounds = [150, 140, 220, 205, 265]\n",
    "\n",
    "# Convert the list to a NumPy array\n",
    "array_weight_pounds = np.array(list_weight_pounds)\n",
    "\n",
    "# Convert weights from pounds to kilograms\n",
    "array_weight_kg = array_weight_pounds / 2.2046\n",
    "\n",
    "# Print the results to confirm\n",
    "print(\"Array of Weights in Pounds:\", array_weight_pounds)\n",
    "print(\"Array of Weights in Kilograms:\", array_weight_kg)\n",
    "array_weight_pounds = None\n",
    "array_weight_kg = None"
   ]
  },
  {
   "cell_type": "markdown",
   "metadata": {},
   "source": [
    "The metric formula for calculating BMI is as follows:\n",
    "\n",
    "> BMI = weight (kg) ÷ height^2 (m^2)\n",
    "\n",
    "So, to get BMI we divide weight by the squared value of height. For example, if I weighed 130kg and was 1.9 meters tall, the calculation would look like:\n",
    "\n",
    "> BMI = 130 / (1.9*1.9)\n",
    "\n",
    "Use the BMI calculation to create a NumPy array of BMIs"
   ]
  },
  {
   "cell_type": "code",
   "execution_count": 8,
   "metadata": {},
   "outputs": [
    {
     "name": "stdout",
     "output_type": "stream",
     "text": [
      "Array of BMIs: [24.96106649 21.28669807 29.02519691 25.62305302 30.62382193]\n"
     ]
    }
   ],
   "source": [
    "# Your code here\n",
    "BMI_array = None\n",
    "\n",
    "# Heights in meters (from previous conversion)\n",
    "array_height_meters = np.array([1.651, 1.7272, 1.8542, 1.905, 1.9812])\n",
    "\n",
    "# Weights in kilograms (from previous conversion)\n",
    "array_weight_kg = np.array([68.0389, 63.5029, 99.7903, 92.9867, 120.2032])\n",
    "\n",
    "# Calculate BMI\n",
    "BMI_array = array_weight_kg / (array_height_meters ** 2)\n",
    "\n",
    "# Print the results to confirm\n",
    "print(\"Array of BMIs:\", BMI_array)"
   ]
  },
  {
   "cell_type": "markdown",
   "metadata": {},
   "source": [
    "## Create a vector of ones the same size as your BMI vector using `np.ones()`"
   ]
  },
  {
   "cell_type": "code",
   "execution_count": null,
   "metadata": {},
   "outputs": [],
   "source": [
    "# Your code here\n",
    "identity = None\n",
    "identity"
   ]
  },
  {
   "cell_type": "markdown",
   "metadata": {},
   "source": [
    "## Multiply the BMI_array by your vector of ones\n",
    "The resulting product should have the same values as your original BMI numpy array."
   ]
  },
  {
   "cell_type": "code",
   "execution_count": 9,
   "metadata": {},
   "outputs": [
    {
     "name": "stdout",
     "output_type": "stream",
     "text": [
      "Vector of Ones: [1. 1. 1. 1. 1.]\n",
      "Resulting Product: [24.9349 21.3185 29.0166 25.6458 30.5425]\n"
     ]
    }
   ],
   "source": [
    "# Your code here\n",
    "# Assuming BMI_array is already defined\n",
    "BMI_array = np.array([24.9349, 21.3185, 29.0166, 25.6458, 30.5425])\n",
    "\n",
    "# Create a vector of ones with the same size as BMI_array\n",
    "ones_vector = np.ones(BMI_array.shape)\n",
    "\n",
    "# Multiply the BMI_array by the vector of ones\n",
    "resulting_product = BMI_array * ones_vector\n",
    "\n",
    "# Print the results to confirm\n",
    "print(\"Vector of Ones:\", ones_vector)\n",
    "print(\"Resulting Product:\", resulting_product)"
   ]
  },
  {
   "cell_type": "markdown",
   "metadata": {},
   "source": [
    "## Level Up: Using NumPy to Parse a File\n",
    "The Pandas library that we've been using is built on top of NumPy; all columns/series in a Pandas DataFrame are built using NumPy arrays. To get a better idea of a how a built-in method like `pd.read_csv()` works, we'll try and recreate that here!"
   ]
  },
  {
   "cell_type": "code",
   "execution_count": 13,
   "metadata": {},
   "outputs": [
    {
     "ename": "FileNotFoundError",
     "evalue": "[Errno 2] No such file or directory: 'bp.txt'",
     "output_type": "error",
     "traceback": [
      "\u001b[1;31m---------------------------------------------------------------------------\u001b[0m",
      "\u001b[1;31mFileNotFoundError\u001b[0m                         Traceback (most recent call last)",
      "Cell \u001b[1;32mIn[13], line 2\u001b[0m\n\u001b[0;32m      1\u001b[0m \u001b[38;5;66;03m# Open the file and determine the number of rows and columns\u001b[39;00m\n\u001b[1;32m----> 2\u001b[0m f \u001b[38;5;241m=\u001b[39m \u001b[38;5;28mopen\u001b[39m(\u001b[38;5;124m'\u001b[39m\u001b[38;5;124mbp.txt\u001b[39m\u001b[38;5;124m'\u001b[39m)\n\u001b[0;32m      3\u001b[0m n_rows \u001b[38;5;241m=\u001b[39m \u001b[38;5;28mlen\u001b[39m(f\u001b[38;5;241m.\u001b[39mreadlines())\n\u001b[0;32m      4\u001b[0m \u001b[38;5;28mprint\u001b[39m(\u001b[38;5;124m'\u001b[39m\u001b[38;5;124mThe file has \u001b[39m\u001b[38;5;132;01m{}\u001b[39;00m\u001b[38;5;124m lines.\u001b[39m\u001b[38;5;124m'\u001b[39m\u001b[38;5;241m.\u001b[39mformat(n_rows))\n",
      "File \u001b[1;32m~\\AppData\\Local\\anaconda3\\Lib\\site-packages\\IPython\\core\\interactiveshell.py:324\u001b[0m, in \u001b[0;36m_modified_open\u001b[1;34m(file, *args, **kwargs)\u001b[0m\n\u001b[0;32m    317\u001b[0m \u001b[38;5;28;01mif\u001b[39;00m file \u001b[38;5;129;01min\u001b[39;00m {\u001b[38;5;241m0\u001b[39m, \u001b[38;5;241m1\u001b[39m, \u001b[38;5;241m2\u001b[39m}:\n\u001b[0;32m    318\u001b[0m     \u001b[38;5;28;01mraise\u001b[39;00m \u001b[38;5;167;01mValueError\u001b[39;00m(\n\u001b[0;32m    319\u001b[0m         \u001b[38;5;124mf\u001b[39m\u001b[38;5;124m\"\u001b[39m\u001b[38;5;124mIPython won\u001b[39m\u001b[38;5;124m'\u001b[39m\u001b[38;5;124mt let you open fd=\u001b[39m\u001b[38;5;132;01m{\u001b[39;00mfile\u001b[38;5;132;01m}\u001b[39;00m\u001b[38;5;124m by default \u001b[39m\u001b[38;5;124m\"\u001b[39m\n\u001b[0;32m    320\u001b[0m         \u001b[38;5;124m\"\u001b[39m\u001b[38;5;124mas it is likely to crash IPython. If you know what you are doing, \u001b[39m\u001b[38;5;124m\"\u001b[39m\n\u001b[0;32m    321\u001b[0m         \u001b[38;5;124m\"\u001b[39m\u001b[38;5;124myou can use builtins\u001b[39m\u001b[38;5;124m'\u001b[39m\u001b[38;5;124m open.\u001b[39m\u001b[38;5;124m\"\u001b[39m\n\u001b[0;32m    322\u001b[0m     )\n\u001b[1;32m--> 324\u001b[0m \u001b[38;5;28;01mreturn\u001b[39;00m io_open(file, \u001b[38;5;241m*\u001b[39margs, \u001b[38;5;241m*\u001b[39m\u001b[38;5;241m*\u001b[39mkwargs)\n",
      "\u001b[1;31mFileNotFoundError\u001b[0m: [Errno 2] No such file or directory: 'bp.txt'"
     ]
    }
   ],
   "source": [
    "# Open the file and determine the number of rows and columns\n",
    "f = open('bp.txt')\n",
    "n_rows = len(f.readlines())\n",
    "print('The file has {} lines.'.format(n_rows))\n",
    "f.close()\n",
    "\n",
    "f = open('bp.txt')\n",
    "n_cols = len(f.readline().split('\\t'))\n",
    "f.close()\n",
    "\n",
    "# Reopen the file to read the data\n",
    "f = open('bp.txt')\n",
    "\n",
    "# 1) Create a matrix of zeros that is the same size as the file (excluding the header row)\n",
    "data_matrix = np.zeros((n_rows - 1, n_cols))\n",
    "\n",
    "# 2) Iterate through the file\n",
    "for i, line in enumerate(f):\n",
    "    # 3) Skip the first row (it's just column names, not the data)\n",
    "    if i == 0:\n",
    "        continue\n",
    "    \n",
    "    # Split the line by tabs to get the individual values\n",
    "    values = line.strip().split('\\t')\n",
    "    \n",
    "    # Convert the values to floats and update the matrix\n",
    "    data_matrix[i - 1] = np.array(values, dtype=float)\n",
    "\n",
    "# Close the file\n",
    "f.close()\n",
    "\n",
    "# 4) Preview the results\n",
    "print(\"Data Matrix:\\n\", data_matrix)"
   ]
  },
  {
   "cell_type": "markdown",
   "metadata": {},
   "source": [
    "## Summary"
   ]
  },
  {
   "cell_type": "markdown",
   "metadata": {},
   "source": [
    "In this lab, we practiced creating NumPy arrays from both lists and ranges. We then practiced performing math operations like converting imperial measurements to metric measurements on each element of a NumPy array to create new arrays with new values. Finally, we used both of our new NumPy arrays to operate on each other and create new arrays containing the BMIs from our arrays containing heights and weights."
   ]
  }
 ],
 "metadata": {
  "kernelspec": {
   "display_name": "Python 3 (ipykernel)",
   "language": "python",
   "name": "python3"
  },
  "language_info": {
   "codemirror_mode": {
    "name": "ipython",
    "version": 3
   },
   "file_extension": ".py",
   "mimetype": "text/x-python",
   "name": "python",
   "nbconvert_exporter": "python",
   "pygments_lexer": "ipython3",
   "version": "3.12.4"
  }
 },
 "nbformat": 4,
 "nbformat_minor": 4
}
