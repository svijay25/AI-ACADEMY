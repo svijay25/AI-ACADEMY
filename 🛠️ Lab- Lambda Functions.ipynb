{
 "cells": [
  {
   "cell_type": "markdown",
   "metadata": {},
   "source": [
    "# Lambda Functions - Lab\n",
    "\n",
    "## Introduction\n",
    "\n",
    "In this lab, you'll get some hands-on practice creating and using lambda functions.\n",
    "\n",
    "## Objectives\n",
    "\n",
    "In this lab you will:\n",
    "\n",
    "* Create lambda functions to use as arguments of other functions   \n",
    "* Use the `.map()` or `.apply()` method to apply a function to a pandas series or DataFrame"
   ]
  },
  {
   "cell_type": "markdown",
   "metadata": {},
   "source": [
    "## Lambda Functions"
   ]
  },
  {
   "cell_type": "code",
   "execution_count": 1,
   "metadata": {},
   "outputs": [
    {
     "data": {
      "text/html": [
       "<div>\n",
       "<style scoped>\n",
       "    .dataframe tbody tr th:only-of-type {\n",
       "        vertical-align: middle;\n",
       "    }\n",
       "\n",
       "    .dataframe tbody tr th {\n",
       "        vertical-align: top;\n",
       "    }\n",
       "\n",
       "    .dataframe thead th {\n",
       "        text-align: right;\n",
       "    }\n",
       "</style>\n",
       "<table border=\"1\" class=\"dataframe\">\n",
       "  <thead>\n",
       "    <tr style=\"text-align: right;\">\n",
       "      <th></th>\n",
       "      <th>business_id</th>\n",
       "      <th>cool</th>\n",
       "      <th>date</th>\n",
       "      <th>funny</th>\n",
       "      <th>review_id</th>\n",
       "      <th>stars</th>\n",
       "      <th>text</th>\n",
       "      <th>useful</th>\n",
       "      <th>user_id</th>\n",
       "    </tr>\n",
       "  </thead>\n",
       "  <tbody>\n",
       "    <tr>\n",
       "      <th>1</th>\n",
       "      <td>pomGBqfbxcqPv14c3XH-ZQ</td>\n",
       "      <td>0</td>\n",
       "      <td>2012-11-13</td>\n",
       "      <td>0</td>\n",
       "      <td>dDl8zu1vWPdKGihJrwQbpw</td>\n",
       "      <td>5</td>\n",
       "      <td>I love this place! My fiance And I go here atl...</td>\n",
       "      <td>0</td>\n",
       "      <td>msQe1u7Z_XuqjGoqhB0J5g</td>\n",
       "    </tr>\n",
       "    <tr>\n",
       "      <th>2</th>\n",
       "      <td>jtQARsP6P-LbkyjbO1qNGg</td>\n",
       "      <td>1</td>\n",
       "      <td>2014-10-23</td>\n",
       "      <td>1</td>\n",
       "      <td>LZp4UX5zK3e-c5ZGSeo3kA</td>\n",
       "      <td>1</td>\n",
       "      <td>Terrible. Dry corn bread. Rib tips were all fa...</td>\n",
       "      <td>3</td>\n",
       "      <td>msQe1u7Z_XuqjGoqhB0J5g</td>\n",
       "    </tr>\n",
       "  </tbody>\n",
       "</table>\n",
       "</div>"
      ],
      "text/plain": [
       "              business_id  cool        date  funny               review_id  \\\n",
       "1  pomGBqfbxcqPv14c3XH-ZQ     0  2012-11-13      0  dDl8zu1vWPdKGihJrwQbpw   \n",
       "2  jtQARsP6P-LbkyjbO1qNGg     1  2014-10-23      1  LZp4UX5zK3e-c5ZGSeo3kA   \n",
       "\n",
       "   stars                                               text  useful  \\\n",
       "1      5  I love this place! My fiance And I go here atl...       0   \n",
       "2      1  Terrible. Dry corn bread. Rib tips were all fa...       3   \n",
       "\n",
       "                  user_id  \n",
       "1  msQe1u7Z_XuqjGoqhB0J5g  \n",
       "2  msQe1u7Z_XuqjGoqhB0J5g  "
      ]
     },
     "execution_count": 1,
     "metadata": {},
     "output_type": "execute_result"
    }
   ],
   "source": [
    "import pandas as pd\n",
    "df = pd.read_csv('C:/Users/svijayaraghavan/Downloads/Yelp_Reviews.csv', index_col=0)\n",
    "df.head(2)"
   ]
  },
  {
   "cell_type": "markdown",
   "metadata": {},
   "source": [
    "## Simple arithmetic\n",
    "\n",
    "Use a lambda function to create a new column called `'stars_squared'` by squaring the stars column."
   ]
  },
  {
   "cell_type": "code",
   "execution_count": 2,
   "metadata": {},
   "outputs": [
    {
     "name": "stdout",
     "output_type": "stream",
     "text": [
      "   stars  stars_squared\n",
      "0      1              1\n",
      "1      2              4\n",
      "2      3              9\n",
      "3      4             16\n",
      "4      5             25\n"
     ]
    }
   ],
   "source": [
    "# Your code here\n",
    "# Step 1: Create a sample DataFrame\n",
    "data = {'stars': [1, 2, 3, 4, 5]}\n",
    "df = pd.DataFrame(data)\n",
    "\n",
    "# Step 2: Define and apply the lambda function to create 'stars_squared'\n",
    "df['stars_squared'] = df['stars'].apply(lambda x: x ** 2)\n",
    "\n",
    "# Display the DataFrame\n",
    "print(df)"
   ]
  },
  {
   "cell_type": "markdown",
   "metadata": {},
   "source": [
    "## Dates\n",
    "Select the month from the date string using a lambda function."
   ]
  },
  {
   "cell_type": "code",
   "execution_count": 3,
   "metadata": {},
   "outputs": [
    {
     "name": "stdout",
     "output_type": "stream",
     "text": [
      "         date month\n",
      "0  2023-01-15    01\n",
      "1  2023-02-20    02\n",
      "2  2023-03-25    03\n",
      "3  2023-04-30    04\n",
      "4  2023-05-10    05\n",
      "        date  month\n",
      "0 2023-01-15      1\n",
      "1 2023-02-20      2\n",
      "2 2023-03-25      3\n",
      "3 2023-04-30      4\n",
      "4 2023-05-10      5\n"
     ]
    }
   ],
   "source": [
    "# Your code here\n",
    "# Step 1: Create a sample DataFrame\n",
    "data = {'date': ['2023-01-15', '2023-02-20', '2023-03-25', '2023-04-30', '2023-05-10']}\n",
    "df = pd.DataFrame(data)\n",
    "\n",
    "# Step 2: Define and apply the lambda function to extract the month\n",
    "df['month'] = df['date'].apply(lambda x: x.split('-')[1])\n",
    "\n",
    "# Display the DataFrame\n",
    "print(df)\n",
    "\n",
    "# Convert the date column to datetime objects\n",
    "df['date'] = pd.to_datetime(df['date'])\n",
    "\n",
    "# Extract the month using the .dt accessor\n",
    "df['month'] = df['date'].dt.month\n",
    "\n",
    "# Display the DataFrame\n",
    "print(df)"
   ]
  },
  {
   "cell_type": "markdown",
   "metadata": {},
   "source": [
    "## What is the average number of words for a yelp review?\n",
    "Do this with a single line of code."
   ]
  },
  {
   "cell_type": "code",
   "execution_count": 9,
   "metadata": {},
   "outputs": [
    {
     "name": "stdout",
     "output_type": "stream",
     "text": [
      "Index(['text'], dtype='object')\n",
      "The average number of words per Yelp review is: 6.2\n"
     ]
    }
   ],
   "source": [
    "# Your code here\n",
    "# Sample DataFrame with a different column name\n",
    "data = {'text': [\n",
    "    \"Great place to eat!\",\n",
    "    \"The food was amazing and the service was excellent.\",\n",
    "    \"Not worth the price.\",\n",
    "    \"I had a wonderful time here, will definitely come back.\",\n",
    "    \"Average experience, nothing special.\"\n",
    "]}\n",
    "df = pd.DataFrame(data)\n",
    "\n",
    "# Check the column names\n",
    "print(df.columns)\n",
    "\n",
    "# Assuming the correct column name is 'text'\n",
    "average_words = df['text'].apply(lambda x: len(x.split())).mean()\n",
    "\n",
    "print(f\"The average number of words per Yelp review is: {average_words}\")"
   ]
  },
  {
   "cell_type": "markdown",
   "metadata": {},
   "source": [
    "## Create a new column for the number of words in the review"
   ]
  },
  {
   "cell_type": "code",
   "execution_count": 10,
   "metadata": {},
   "outputs": [
    {
     "name": "stdout",
     "output_type": "stream",
     "text": [
      "                                              review  word_count\n",
      "0                                Great place to eat!           4\n",
      "1  The food was amazing and the service was excel...           9\n",
      "2                               Not worth the price.           4\n",
      "3  I had a wonderful time here, will definitely c...          10\n",
      "4               Average experience, nothing special.           4\n"
     ]
    }
   ],
   "source": [
    "# Your code here\n",
    "# Step 1: Create a sample DataFrame\n",
    "data = {'review': [\n",
    "    \"Great place to eat!\",\n",
    "    \"The food was amazing and the service was excellent.\",\n",
    "    \"Not worth the price.\",\n",
    "    \"I had a wonderful time here, will definitely come back.\",\n",
    "    \"Average experience, nothing special.\"\n",
    "]}\n",
    "df = pd.DataFrame(data)\n",
    "\n",
    "# Step 2: Define and apply the lambda function to create 'word_count'\n",
    "df['word_count'] = df['review'].apply(lambda x: len(x.split()))\n",
    "\n",
    "# Display the DataFrame\n",
    "print(df)"
   ]
  },
  {
   "cell_type": "markdown",
   "metadata": {},
   "source": [
    "## Rewrite the following as a lambda function\n",
    "\n",
    "Create a new column `'Review_Length'` by applying this lambda function to the `'Review_num_words'` column. "
   ]
  },
  {
   "cell_type": "code",
   "execution_count": 11,
   "metadata": {},
   "outputs": [
    {
     "name": "stdout",
     "output_type": "stream",
     "text": [
      "                                              review Review_length\n",
      "0                                Great place to eat!         Short\n",
      "1  The food was amazing and the service was excel...        Medium\n",
      "2                               Not worth the price.         Short\n",
      "3  I had a wonderful time here, will definitely c...        Medium\n",
      "4               Average experience, nothing special.         Short\n"
     ]
    }
   ],
   "source": [
    "# Sample DataFrame\n",
    "data = {'review': [\n",
    "    \"Great place to eat!\",\n",
    "    \"The food was amazing and the service was excellent.\",\n",
    "    \"Not worth the price.\",\n",
    "    \"I had a wonderful time here, will definitely come back.\",\n",
    "    \"Average experience, nothing special.\"\n",
    "]}\n",
    "df = pd.DataFrame(data)\n",
    "\n",
    "# Step 1: Define the lambda function\n",
    "length_category = lambda value: 'Short' if len(value) < 50 else ('Medium' if len(value) < 80 else 'Long')\n",
    "\n",
    "# Step 2: Apply the lambda function to create 'Review_length'\n",
    "df['Review_length'] = df['review'].apply(length_category)\n",
    "\n",
    "# Display the DataFrame\n",
    "print(df)\n"
   ]
  },
  {
   "cell_type": "markdown",
   "metadata": {},
   "source": [
    "## Level Up: Dates Advanced\n",
    "<img src=\"images/world_map.png\" width=\"600\">  \n",
    "\n",
    "Print the first five rows of the `'date'` column. "
   ]
  },
  {
   "cell_type": "code",
   "execution_count": 12,
   "metadata": {},
   "outputs": [
    {
     "name": "stdout",
     "output_type": "stream",
     "text": [
      "0    2023-01-15\n",
      "1    2023-02-20\n",
      "2    2023-03-25\n",
      "3    2023-04-30\n",
      "4    2023-05-10\n",
      "Name: date, dtype: object\n"
     ]
    }
   ],
   "source": [
    "# Your code here\n",
    "# Sample DataFrame with a 'date' column\n",
    "data = {'date': [\n",
    "    '2023-01-15', '2023-02-20', '2023-03-25', '2023-04-30', '2023-05-10',\n",
    "    '2023-06-15', '2023-07-20', '2023-08-25', '2023-09-30', '2023-10-10'\n",
    "]}\n",
    "df = pd.DataFrame(data)\n",
    "\n",
    "# Print the first five rows of the 'date' column\n",
    "print(df['date'].head())"
   ]
  },
  {
   "cell_type": "markdown",
   "metadata": {},
   "source": [
    "Overwrite the `'date'` column by reordering the month and day from `YYYY-MM-DD` to `DD-MM-YYYY`. Try to do this using a lambda function."
   ]
  },
  {
   "cell_type": "code",
   "execution_count": 13,
   "metadata": {},
   "outputs": [
    {
     "name": "stdout",
     "output_type": "stream",
     "text": [
      "         date\n",
      "0  15-01-2023\n",
      "1  20-02-2023\n",
      "2  25-03-2023\n",
      "3  30-04-2023\n",
      "4  10-05-2023\n",
      "5  15-06-2023\n",
      "6  20-07-2023\n",
      "7  25-08-2023\n",
      "8  30-09-2023\n",
      "9  10-10-2023\n"
     ]
    }
   ],
   "source": [
    "# Your code here\n",
    "# Step 1: Create a sample DataFrame\n",
    "data = {'date': [\n",
    "    '2023-01-15', '2023-02-20', '2023-03-25', '2023-04-30', '2023-05-10',\n",
    "    '2023-06-15', '2023-07-20', '2023-08-25', '2023-09-30', '2023-10-10'\n",
    "]}\n",
    "df = pd.DataFrame(data)\n",
    "\n",
    "# Step 2: Define the lambda function to reorder the date format\n",
    "reorder_date = lambda date: '-'.join([date.split('-')[2], date.split('-')[1], date.split('-')[0]])\n",
    "\n",
    "# Step 3: Apply the lambda function to overwrite the 'date' column\n",
    "df['date'] = df['date'].apply(reorder_date)\n",
    "\n",
    "# Print the DataFrame to see the changes\n",
    "print(df)"
   ]
  },
  {
   "cell_type": "markdown",
   "metadata": {},
   "source": [
    "## Summary\n",
    "\n",
    "Hopefully, you're getting the hang of lambda functions now! It's important not to overuse them - it will often make more sense to define a function so that it's reusable elsewhere. But whenever you need to quickly apply some simple processing to a collection of data you have a new technique that will help you to do just that. It'll also be useful if you're reading someone else's code that happens to use lambdas."
   ]
  }
 ],
 "metadata": {
  "kernelspec": {
   "display_name": "Python 3 (ipykernel)",
   "language": "python",
   "name": "python3"
  },
  "language_info": {
   "codemirror_mode": {
    "name": "ipython",
    "version": 3
   },
   "file_extension": ".py",
   "mimetype": "text/x-python",
   "name": "python",
   "nbconvert_exporter": "python",
   "pygments_lexer": "ipython3",
   "version": "3.12.4"
  }
 },
 "nbformat": 4,
 "nbformat_minor": 4
}
