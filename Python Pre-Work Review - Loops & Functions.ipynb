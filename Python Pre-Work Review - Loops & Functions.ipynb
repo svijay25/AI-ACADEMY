{
 "cells": [
  {
   "cell_type": "markdown",
   "metadata": {},
   "source": [
    "# Python Pre-Work Review - Loops and Functions\n",
    "\n",
    "Feel like you missed what pair programming is supposed to be all about? [Check out the writeup in the Recipe for Success document](https://docs.google.com/document/d/1J2VgF-40k8aO44epy-Rlu21jeV53k7VNJKXRR3y0P_M/edit#heading=h.hsv76gt73puu)"
   ]
  },
  {
   "cell_type": "markdown",
   "metadata": {},
   "source": [
    "\n",
    "## Scenario\n",
    "\n",
    "![cat pushing a shopping cart](images/cat_shopping_cart.jpg)\n",
    "\n",
    "Who has ever gotten to the cash register at Costco, or Whole Foods, or Target, then seen the total and asked, _\"How did I spend that much?!\"_ \n",
    "\n",
    "We have a grocery list of items and prices, but we do not have infinite money (unfortunately), so let's use Python help us manage our shopping and expenses."
   ]
  },
  {
   "cell_type": "markdown",
   "metadata": {},
   "source": [
    "## For Loops:\n",
    "\n",
    "Below, we have a list of items, and a separate list of costs. Let's build up to where we can write a loop to print each item, its cost, and the total of our grocery list."
   ]
  },
  {
   "cell_type": "code",
   "execution_count": 1,
   "metadata": {},
   "outputs": [],
   "source": [
    "# Run this cell without changes\n",
    "# Here is our grocery list\n",
    "items = ['cheese', 'whole milk', 'kefir', 'tofu four-pack', 'kale', 'oranges', \n",
    "         'ham', \"ben & jerry's\"]\n",
    "\n",
    "# Here is our cost list\n",
    "cost = [2.79, 3.42, 4.50, 12.00, 2.75, 3.64, 25.00, 5.29]"
   ]
  },
  {
   "cell_type": "markdown",
   "metadata": {},
   "source": [
    "Let's make that a little nicer looking. \n",
    "\n",
    "### 1) Create a `for` loop that prints each item in the list with \"I need to buy: \" + item:"
   ]
  },
  {
   "cell_type": "code",
   "execution_count": 2,
   "metadata": {},
   "outputs": [
    {
     "name": "stdout",
     "output_type": "stream",
     "text": [
      "I need to buy: cheese\n",
      "I need to buy: whole milk\n",
      "I need to buy: kefir\n",
      "I need to buy: tofu four-pack\n",
      "I need to buy: kale\n",
      "I need to buy: oranges\n",
      "I need to buy: ham\n",
      "I need to buy: ben & jerry's\n"
     ]
    }
   ],
   "source": [
    "# Write your for loop\n",
    "# Here is our grocery list\n",
    "items = ['cheese', 'whole milk', 'kefir', 'tofu four-pack', 'kale', 'oranges', \n",
    "         'ham', \"ben & jerry's\"]\n",
    "\n",
    "# Loop through the items\n",
    "for item in items:\n",
    "    # Print each item with the phrase \"I need to buy: \"\n",
    "    print(f\"I need to buy: {item}\")"
   ]
  },
  {
   "cell_type": "markdown",
   "metadata": {},
   "source": [
    "What if we think it will be easier to work with a dictionary?\n",
    "\n",
    "### 2) Convert those two lists to a single dictionary:\n",
    "\n",
    "[Hint](https://appdividend.com/2022/03/10/python-zip-dictionary/)"
   ]
  },
  {
   "cell_type": "code",
   "execution_count": 3,
   "metadata": {},
   "outputs": [
    {
     "name": "stdout",
     "output_type": "stream",
     "text": [
      "{'cheese': 2.79, 'whole milk': 3.42, 'kefir': 4.5, 'tofu four-pack': 12.0, 'kale': 2.75, 'oranges': 3.64, 'ham': 25.0, \"ben & jerry's\": 5.29}\n"
     ]
    }
   ],
   "source": [
    "# Replace None with appropriate code to create your dictionary\n",
    "# Here is our grocery list\n",
    "items = ['cheese', 'whole milk', 'kefir', 'tofu four-pack', 'kale', 'oranges', \n",
    "         'ham', \"ben & jerry's\"]\n",
    "\n",
    "# Here is our cost list\n",
    "cost = [2.79, 3.42, 4.50, 12.00, 2.75, 3.64, 25.00, 5.29]\n",
    "\n",
    "# Convert the two lists into a dictionary\n",
    "grocery_dict = dict(zip(items, cost))\n",
    "\n",
    "# Print the resulting dictionary to confirm\n",
    "print(grocery_dict)"
   ]
  },
  {
   "cell_type": "code",
   "execution_count": 4,
   "metadata": {
    "scrolled": true
   },
   "outputs": [
    {
     "data": {
      "text/plain": [
       "{'cheese': 2.79,\n",
       " 'whole milk': 3.42,\n",
       " 'kefir': 4.5,\n",
       " 'tofu four-pack': 12.0,\n",
       " 'kale': 2.75,\n",
       " 'oranges': 3.64,\n",
       " 'ham': 25.0,\n",
       " \"ben & jerry's\": 5.29}"
      ]
     },
     "execution_count": 4,
     "metadata": {},
     "output_type": "execute_result"
    }
   ],
   "source": [
    "# Check your work\n",
    "grocery_dict"
   ]
  },
  {
   "cell_type": "markdown",
   "metadata": {},
   "source": [
    "### 3) Sum the total grocery bill for these items:\n",
    "\n",
    "(use the dictionary's `values`, not the cost list from before!)"
   ]
  },
  {
   "cell_type": "code",
   "execution_count": 5,
   "metadata": {
    "scrolled": true
   },
   "outputs": [
    {
     "name": "stdout",
     "output_type": "stream",
     "text": [
      "Total Grocery Bill: $59.39\n"
     ]
    }
   ],
   "source": [
    "# Calculate your sum\n",
    "# Here is our grocery dictionary\n",
    "grocery_dict = {\n",
    "    'cheese': 2.79,\n",
    "    'whole milk': 3.42,\n",
    "    'kefir': 4.5,\n",
    "    'tofu four-pack': 12.0,\n",
    "    'kale': 2.75,\n",
    "    'oranges': 3.64,\n",
    "    'ham': 25.0,\n",
    "    \"ben & jerry's\": 5.29\n",
    "}\n",
    "\n",
    "# Calculate the sum of the values in the dictionary\n",
    "total_cost = sum(grocery_dict.values())\n",
    "\n",
    "# Print the total cost\n",
    "print(f\"Total Grocery Bill: ${total_cost:.2f}\")"
   ]
  },
  {
   "cell_type": "markdown",
   "metadata": {},
   "source": [
    "Gah! What if we're trying to be frugal?\n",
    "\n",
    "One way to do that would be to not buy any item that's more expensive than $10.\n",
    "\n",
    "### 4) Edit your loop so that it only calculates the sum for items that are less than $10:\n",
    "\n",
    "Hint: `.items()` will create two variables from a dictionary, one with the keys and one with the values. You can use `.items()`, conditionals, and a for loop to only add items that are cheaper then $10 to our total!"
   ]
  },
  {
   "cell_type": "code",
   "execution_count": 6,
   "metadata": {
    "scrolled": true
   },
   "outputs": [
    {
     "name": "stdout",
     "output_type": "stream",
     "text": [
      "Total Cost for items less than $10: $22.39\n"
     ]
    }
   ],
   "source": [
    "# Code here to only add items to our total if they're <$10\n",
    "# Here is our grocery dictionary\n",
    "grocery_dict = {\n",
    "    'cheese': 2.79,\n",
    "    'whole milk': 3.42,\n",
    "    'kefir': 4.5,\n",
    "    'tofu four-pack': 12.0,\n",
    "    'kale': 2.75,\n",
    "    'oranges': 3.64,\n",
    "    'ham': 25.0,\n",
    "    \"ben & jerry's\": 5.29\n",
    "}\n",
    "\n",
    "# Initialize total cost\n",
    "total_cost = 0\n",
    "\n",
    "# Loop through the dictionary items\n",
    "for item, price in grocery_dict.items():\n",
    "    # Check if the price is less than $10\n",
    "    if price < 10:\n",
    "        # Add the price to the total cost\n",
    "        total_cost += price\n",
    "\n",
    "# Print the total cost for items less than $10\n",
    "print(f\"Total Cost for items less than $10: ${total_cost:.2f}\")"
   ]
  },
  {
   "cell_type": "code",
   "execution_count": 7,
   "metadata": {},
   "outputs": [
    {
     "name": "stdout",
     "output_type": "stream",
     "text": [
      "Total Cost for items less than $10: $22.39\n"
     ]
    }
   ],
   "source": [
    "# Check your work\n",
    "# Print the total cost for items less than $10\n",
    "print(f\"Total Cost for items less than $10: ${total_cost:.2f}\")"
   ]
  },
  {
   "cell_type": "markdown",
   "metadata": {},
   "source": [
    "## Functions:\n",
    "\n",
    "Just a note - it's always best practice to follow [PEP-8](https://www.python.org/dev/peps/pep-0008/) standards when writing Python code. The [standard for function names](https://www.python.org/dev/peps/pep-0008/#function-and-variable-names) is that they are lowercase, separated by underscores - same as variable names."
   ]
  },
  {
   "cell_type": "markdown",
   "metadata": {},
   "source": [
    "### Quiz question!  `print` vs `return` ?\n",
    "\n",
    "Can you describe the difference between `print` and `return` as a function output? \n",
    "\n",
    "- \n",
    "\n",
    "print\r\n",
    "Purpose: Outputs data to the console.\r\n",
    "Behavior: Displays information but does not affect the program's flow.\r\n",
    "Usage: Used for debugging or providing information to the us\n",
    "\n",
    "return\r\n",
    "Purpose: Exits a function and passes a value back to the caller.\r\n",
    "Behavior: Terminates the function and returns a value for further use.\r\n",
    "Usage: Used when the function's result needs to be used elsewhere in the program.\n",
    "er."
   ]
  },
  {
   "cell_type": "markdown",
   "metadata": {},
   "source": [
    "Back to our shopping list:\n",
    "\n",
    "### 5) Adapt your shopping list's for loop into a function that takes in a dictionary, where the key is the name of the item and the value is its cost, and only adds items if they are less than $10:\n",
    "\n",
    "It should return the total cost without items that cost more than $10."
   ]
  },
  {
   "cell_type": "code",
   "execution_count": 8,
   "metadata": {},
   "outputs": [
    {
     "name": "stdout",
     "output_type": "stream",
     "text": [
      "Total Cost for items less than $10: $22.39\n"
     ]
    }
   ],
   "source": [
    "# You may want to paste your previous for loop here\n",
    "def calculate_total_cost_under_10(grocery_dict):\n",
    "    \"\"\"\n",
    "    Calculate the total cost of items that are less than $10.\n",
    "\n",
    "    Parameters:\n",
    "    grocery_dict (dict): A dictionary where the key is the item name and the value is its cost.\n",
    "\n",
    "    Returns:\n",
    "    float: Total cost of items priced less than $10.\n",
    "    \"\"\"\n",
    "    total_cost = 0\n",
    "    \n",
    "    # Loop through the dictionary items\n",
    "    for item, price in grocery_dict.items():\n",
    "        # Check if the price is less than $10\n",
    "        if price < 10:\n",
    "            # Add the price to the total cost\n",
    "            total_cost += price\n",
    "    \n",
    "    return total_cost\n",
    "\n",
    "# Example usage\n",
    "grocery_dict = {\n",
    "    'cheese': 2.79,\n",
    "    'whole milk': 3.42,\n",
    "    'kefir': 4.5,\n",
    "    'tofu four-pack': 12.0,\n",
    "    'kale': 2.75,\n",
    "    'oranges': 3.64,\n",
    "    'ham': 25.0,\n",
    "    \"ben & jerry's\": 5.29\n",
    "}\n",
    "\n",
    "total_cost = calculate_total_cost_under_10(grocery_dict)\n",
    "print(f\"Total Cost for items less than $10: ${total_cost:.2f}\")"
   ]
  },
  {
   "cell_type": "code",
   "execution_count": 9,
   "metadata": {},
   "outputs": [
    {
     "name": "stdout",
     "output_type": "stream",
     "text": [
      "Total Cost for items less than $10: $22.39\n"
     ]
    }
   ],
   "source": [
    "# Replace pass with the appropriate code\n",
    "def calc_frugal_total(dictionary):\n",
    "    '''\n",
    "    Returns a frugal grocery list sum, that only includes items that cost less\n",
    "    than $10\n",
    "    \n",
    "    Input: dictionary (expects key is item name, value is item cost)\n",
    "    Output: sum (float)\n",
    "    '''\n",
    "    total_cost = 0\n",
    "    \n",
    "    # Loop through the dictionary items\n",
    "    for item, price in dictionary.items():\n",
    "        # Check if the price is less than $10\n",
    "        if price < 10:\n",
    "            # Add the price to the total cost\n",
    "            total_cost += price\n",
    "    \n",
    "    return total_cost\n",
    "\n",
    "# Example usage\n",
    "grocery_dict = {\n",
    "    'cheese': 2.79,\n",
    "    'whole milk': 3.42,\n",
    "    'kefir': 4.5,\n",
    "    'tofu four-pack': 12.0,\n",
    "    'kale': 2.75,\n",
    "    'oranges': 3.64,\n",
    "    'ham': 25.0,\n",
    "    \"ben & jerry's\": 5.29\n",
    "}\n",
    "\n",
    "total_cost = calc_frugal_total(grocery_dict)\n",
    "print(f\"Total Cost for items less than $10: ${total_cost:.2f}\")"
   ]
  },
  {
   "cell_type": "code",
   "execution_count": 10,
   "metadata": {},
   "outputs": [
    {
     "data": {
      "text/plain": [
       "22.39"
      ]
     },
     "execution_count": 10,
     "metadata": {},
     "output_type": "execute_result"
    }
   ],
   "source": [
    "# Run this cell without changes to check your work\n",
    "calc_frugal_total(grocery_dict)"
   ]
  },
  {
   "cell_type": "markdown",
   "metadata": {},
   "source": [
    "## Nested Dictionaries\n",
    "\n",
    "Here is a more robust shopping list of nested dictionaries:"
   ]
  },
  {
   "cell_type": "code",
   "execution_count": 11,
   "metadata": {},
   "outputs": [],
   "source": [
    "# Run this cell without changes\n",
    "shopping_dict = {'Groceries': {\"ben & jerry's\": 5.29, 'cheese': 2.79, \n",
    "                               'ham': 25.0, 'kale': 2.75, 'kefir': 4.5, \n",
    "                               'oranges': 3.64, 'tofu four-pack': 12.0, \n",
    "                               'whole milk': 3.42},\n",
    "                 'House Supplies': {'toilet paper pack': 16.50, \n",
    "                                    'clorox spray': 6.43, 'kleenex': 2.50, },\n",
    "                 'Pet Supplies': {'fancy grain-free kibble': 65.25, \n",
    "                                  'squeaky toy': 4.50, 'treats': 8.45}}\n"
   ]
  },
  {
   "cell_type": "markdown",
   "metadata": {},
   "source": [
    "Nested dictionaries call for nested for loops! \n",
    "\n",
    "### 6) Write a set of nested for loops that create a total grocery list of the items without the categories (for example: ham, clorox spray, squeaky toy, etc.):\n",
    "\n",
    "This would let us have just one list to take to the store and find what we need!"
   ]
  },
  {
   "cell_type": "code",
   "execution_count": 12,
   "metadata": {},
   "outputs": [
    {
     "name": "stdout",
     "output_type": "stream",
     "text": [
      "Total Grocery List:\n",
      "['cheese', 'whole milk', 'kefir', 'kale', 'oranges', 'ham', \"ben & jerry's\", 'clorox spray', 'squeaky toy']\n"
     ]
    }
   ],
   "source": [
    "# Code to write your nested loops\n",
    "# Example nested dictionary representing categories and items\n",
    "grocery_categories = {\n",
    "    'Dairy': {\n",
    "        'cheese': 2.79,\n",
    "        'whole milk': 3.42,\n",
    "        'kefir': 4.5\n",
    "    },\n",
    "    'Produce': {\n",
    "        'kale': 2.75,\n",
    "        'oranges': 3.64\n",
    "    },\n",
    "    'Meat': {\n",
    "        'ham': 25.0\n",
    "    },\n",
    "    'Snacks': {\n",
    "        \"ben & jerry's\": 5.29\n",
    "    },\n",
    "    'Cleaning Supplies': {\n",
    "        'clorox spray': 3.99\n",
    "    },\n",
    "    'Pet Supplies': {\n",
    "        'squeaky toy': 4.99\n",
    "    }\n",
    "}\n",
    "\n",
    "# Initialize an empty list to store all items\n",
    "total_grocery_list = []\n",
    "\n",
    "# Nested for loops to iterate through categories and items\n",
    "for category, items in grocery_categories.items():\n",
    "    for item in items:\n",
    "        total_grocery_list.append(item)\n",
    "\n",
    "# Print the total grocery list\n",
    "print(\"Total Grocery List:\")\n",
    "print(total_grocery_list)"
   ]
  },
  {
   "cell_type": "code",
   "execution_count": 13,
   "metadata": {},
   "outputs": [
    {
     "name": "stdout",
     "output_type": "stream",
     "text": [
      "['cheese', 'whole milk', 'kefir', 'kale', 'oranges', 'ham', \"ben & jerry's\", 'clorox spray', 'squeaky toy']\n"
     ]
    }
   ],
   "source": [
    "# Check your work\n",
    "print(total_grocery_list)"
   ]
  },
  {
   "cell_type": "markdown",
   "metadata": {},
   "source": [
    "### 7) Turn your nested loops into a function that, when given nested dictionaries, returns a list of each item as our grocery list to take with us to the store. It should also print our expected total, so we know how much we expect to spend.\n",
    "\n",
    "Use [this link](https://stackoverflow.com/questions/45310254/fixed-digits-after-decimal-with-f-strings) for help in formatting the total to two decimal places using an f-string - not required, but it'll print out nicer!"
   ]
  },
  {
   "cell_type": "code",
   "execution_count": 15,
   "metadata": {},
   "outputs": [
    {
     "name": "stdout",
     "output_type": "stream",
     "text": [
      "Expected Total Cost: $56.37\n",
      "Grocery List:\n",
      "['cheese', 'whole milk', 'kefir', 'kale', 'oranges', 'ham', \"ben & jerry's\", 'clorox spray', 'squeaky toy']\n"
     ]
    }
   ],
   "source": [
    "# Replace pass with appropriate code\n",
    "def write_grocery_list(nested_dict):\n",
    "    '''\n",
    "    Returns a list of each item from nested dictionaries and prints the expected total cost.\n",
    "    \n",
    "    Input: nested_dict (expects a dictionary where keys are categories and values are dictionaries of items and their costs)\n",
    "    Output: list of items (list)\n",
    "    '''\n",
    "    total_grocery_list = []\n",
    "    total_cost = 0\n",
    "    \n",
    "    # Nested for loops to iterate through categories and items\n",
    "    for category, items in nested_dict.items():\n",
    "        for item, price in items.items():\n",
    "            total_grocery_list.append(item)\n",
    "            total_cost += price\n",
    "    \n",
    "    # Print the total cost formatted to two decimal places\n",
    "    print(f\"Expected Total Cost: ${total_cost:.2f}\")\n",
    "    \n",
    "    return total_grocery_list\n",
    "\n",
    "# Example usage\n",
    "grocery_categories = {\n",
    "    'Dairy': {\n",
    "        'cheese': 2.79,\n",
    "        'whole milk': 3.42,\n",
    "        'kefir': 4.5\n",
    "    },\n",
    "    'Produce': {\n",
    "        'kale': 2.75,\n",
    "        'oranges': 3.64\n",
    "    },\n",
    "    'Meat': {\n",
    "        'ham': 25.0\n",
    "    },\n",
    "    'Snacks': {\n",
    "        \"ben & jerry's\": 5.29\n",
    "    },\n",
    "    'Cleaning Supplies': {\n",
    "        'clorox spray': 3.99\n",
    "    },\n",
    "    'Pet Supplies': {\n",
    "        'squeaky toy': 4.99\n",
    "    }\n",
    "}\n",
    "\n",
    "# Call the function and print the grocery list\n",
    "grocery_list = write_grocery_list(grocery_categories)\n",
    "print(\"Grocery List:\")\n",
    "print(grocery_list)"
   ]
  },
  {
   "cell_type": "code",
   "execution_count": 16,
   "metadata": {},
   "outputs": [
    {
     "name": "stdout",
     "output_type": "stream",
     "text": [
      "Expected Total Cost: $163.02\n"
     ]
    },
    {
     "data": {
      "text/plain": [
       "[\"ben & jerry's\",\n",
       " 'cheese',\n",
       " 'ham',\n",
       " 'kale',\n",
       " 'kefir',\n",
       " 'oranges',\n",
       " 'tofu four-pack',\n",
       " 'whole milk',\n",
       " 'toilet paper pack',\n",
       " 'clorox spray',\n",
       " 'kleenex',\n",
       " 'fancy grain-free kibble',\n",
       " 'squeaky toy',\n",
       " 'treats']"
      ]
     },
     "execution_count": 16,
     "metadata": {},
     "output_type": "execute_result"
    }
   ],
   "source": [
    "# Run this cell without changes to check your work\n",
    "write_grocery_list(shopping_dict)"
   ]
  },
  {
   "cell_type": "markdown",
   "metadata": {},
   "source": [
    "-----\n",
    "\n",
    "## Level Up:\n",
    "\n",
    "Adapt your grocery function to do the following:\n",
    "\n",
    "- flag expensive items that cost more than $20, and do not add them to your list\n",
    "\n",
    "- block items that will push the total cost above $50\n",
    "\n",
    "- print out the average cost per item on your list\n",
    "\n",
    "It should still take in a nested dictionary, and return your grocery list.\n",
    "\n",
    "**Extra bonus points:** add a [docstring](https://www.python.org/dev/peps/pep-0257/)! \n",
    "\n",
    "You can see an example of a docstring up above, where I used triple quotes (''') to write a multi-line string directly under where I defined my `calc_frugal_total` function. That multi-line string is a docstring, and you should get in the habit of using docstrings to describe expected behavior, as well as expected inputs and outputs, for your functions. Best part - after you've defined a function, you can call that docstring by running `help()` around your function, or by clicking into the parentheses after your function and clicking SHIFT+TAB in a juptyer notebook. Test it out!"
   ]
  },
  {
   "cell_type": "code",
   "execution_count": 17,
   "metadata": {},
   "outputs": [
    {
     "name": "stdout",
     "output_type": "stream",
     "text": [
      "Expected Total Cost: $31.37\n",
      "Average Cost per Item: $3.92\n",
      "Grocery List:\n",
      "['cheese', 'whole milk', 'kefir', 'kale', 'oranges', \"ben & jerry's\", 'clorox spray', 'squeaky toy']\n"
     ]
    }
   ],
   "source": [
    "# Code your leveled-up function here\n",
    "def write_grocery_list(nested_dict):\n",
    "    '''\n",
    "    Returns a list of each item from nested dictionaries, flags expensive items, \n",
    "    blocks items that push the total cost above $50, and prints the expected total cost \n",
    "    and average cost per item.\n",
    "    \n",
    "    Input: nested_dict (expects a dictionary where keys are categories and values are dictionaries of items and their costs)\n",
    "    Output: list of items (list)\n",
    "    '''\n",
    "    total_grocery_list = []\n",
    "    total_cost = 0\n",
    "    expensive_items = []\n",
    "    \n",
    "    # Nested for loops to iterate through categories and items\n",
    "    for category, items in nested_dict.items():\n",
    "        for item, price in items.items():\n",
    "            # Flag expensive items\n",
    "            if price > 20:\n",
    "                expensive_items.append(item)\n",
    "                continue\n",
    "            \n",
    "            # Check if adding the item will push the total cost above $50\n",
    "            if total_cost + price > 50:\n",
    "                continue\n",
    "            \n",
    "            total_grocery_list.append(item)\n",
    "            total_cost += price\n",
    "    \n",
    "    # Calculate the average cost per item\n",
    "    average_cost = total_cost / len(total_grocery_list) if total_grocery_list else 0\n",
    "    \n",
    "    # Print the total cost and average cost formatted to two decimal places\n",
    "    print(f\"Expected Total Cost: ${total_cost:.2f}\")\n",
    "    print(f\"Average Cost per Item: ${average_cost:.2f}\")\n",
    "    \n",
    "    return total_grocery_list\n",
    "\n",
    "# Example usage\n",
    "grocery_categories = {\n",
    "    'Dairy': {\n",
    "        'cheese': 2.79,\n",
    "        'whole milk': 3.42,\n",
    "        'kefir': 4.5\n",
    "    },\n",
    "    'Produce': {\n",
    "        'kale': 2.75,\n",
    "        'oranges': 3.64\n",
    "    },\n",
    "    'Meat': {\n",
    "        'ham': 25.0\n",
    "    },\n",
    "    'Snacks': {\n",
    "        \"ben & jerry's\": 5.29\n",
    "    },\n",
    "    'Cleaning Supplies': {\n",
    "        'clorox spray': 3.99\n",
    "    },\n",
    "    'Pet Supplies': {\n",
    "        'squeaky toy': 4.99\n",
    "    }\n",
    "}\n",
    "\n",
    "# Call the function and print the grocery list\n",
    "grocery_list = write_grocery_list(grocery_categories)\n",
    "print(\"Grocery List:\")\n",
    "print(grocery_list)"
   ]
  },
  {
   "cell_type": "code",
   "execution_count": 18,
   "metadata": {},
   "outputs": [
    {
     "name": "stdout",
     "output_type": "stream",
     "text": [
      "['cheese', 'whole milk', 'kefir', 'kale', 'oranges', \"ben & jerry's\", 'clorox spray', 'squeaky toy']\n"
     ]
    }
   ],
   "source": [
    "# Check your work\n",
    "print(grocery_list)"
   ]
  }
 ],
 "metadata": {
  "kernelspec": {
   "display_name": "Python 3 (ipykernel)",
   "language": "python",
   "name": "python3"
  },
  "language_info": {
   "codemirror_mode": {
    "name": "ipython",
    "version": 3
   },
   "file_extension": ".py",
   "mimetype": "text/x-python",
   "name": "python",
   "nbconvert_exporter": "python",
   "pygments_lexer": "ipython3",
   "version": "3.12.4"
  }
 },
 "nbformat": 4,
 "nbformat_minor": 4
}
