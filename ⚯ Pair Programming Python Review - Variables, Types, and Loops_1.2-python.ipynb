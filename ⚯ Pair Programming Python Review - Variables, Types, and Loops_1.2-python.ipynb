{
 "cells": [
  {
   "cell_type": "markdown",
   "metadata": {
    "hide_input": true
   },
   "source": [
    "# Python Review\n",
    "\n",
    "## Learning Objectives\n",
    "\n",
    "The purpose of this notebook is for us to review some of the Python covered in the Pre-Work, including the following: \n",
    "\n",
    "- Assigning variables\n",
    "- Classifying and explaining data types (integers, floats, strings, booleans, lists, dictionaries, and tuples)\n",
    "- Identifying comparators and boolean operators to create conditional code\n",
    "- Making use of lists: indexing, appending, and joining them\n",
    "- Making use of dictionaries: identifying, creating, and navigating them\n",
    "- Moving between lists and dictionaries (zipping lists together to make dictionaries, or pulling relevant data from a dictionary into a list)\n",
    "- Applying for loops to lists and dictionaries\n",
    "\n",
    "Some new things we're bringing up that likely weren't covered in Pre-Work:\n",
    "\n",
    "- Using f-strings or `.format()` to print readable code with variables\n",
    "- Using `.zip()` to combine two lists into a dictionary"
   ]
  },
  {
   "cell_type": "markdown",
   "metadata": {},
   "source": [
    "## To do all that, we are going to code up versions of a bento box:\n",
    "\n",
    "<img src=\"images/bento-box.jpeg\" alt=\"bento box image from https://images.pexels.com/photos/884596/pexels-photo-884596.jpeg\" width=600>\n",
    "\n",
    "\n",
    "### Bento boxes can have multiple ingredients and choices\n",
    "\n",
    "By the end, we want to combine multiple bento orders into one data collection, and print each item for the restaurant. \n",
    "\n",
    "### Variable assignment \n",
    "\n",
    "Let's start with our first bento order:"
   ]
  },
  {
   "cell_type": "code",
   "execution_count": 13,
   "metadata": {},
   "outputs": [],
   "source": [
    "# Run this cell without changes\n",
    "main = \"rice\"\n",
    "protein = \"salmon\"\n",
    "oz_of_protein = 4.5\n",
    "number_of_sides = 3\n",
    "side1 = 'seaweed'\n",
    "side2 = 'onigiri'\n",
    "side3 = 'turnip pickle'\n",
    "great_bento = True"
   ]
  },
  {
   "cell_type": "markdown",
   "metadata": {},
   "source": [
    "Now, if we wanted to change our protein to `'ginger chicken'`, how would we do that?"
   ]
  },
  {
   "cell_type": "code",
   "execution_count": 14,
   "metadata": {},
   "outputs": [
    {
     "name": "stdout",
     "output_type": "stream",
     "text": [
      "ginger chicken\n"
     ]
    }
   ],
   "source": [
    "# Code here to change protein\n",
    "\n",
    "protein = \"ginger chicken\"\n",
    "print(protein)\n",
    "\n"
   ]
  },
  {
   "cell_type": "markdown",
   "metadata": {},
   "source": [
    "And changing the amount of protein to `3.5`?"
   ]
  },
  {
   "cell_type": "code",
   "execution_count": 15,
   "metadata": {},
   "outputs": [
    {
     "name": "stdout",
     "output_type": "stream",
     "text": [
      "3.5\n"
     ]
    }
   ],
   "source": [
    "# Code here to change oz_of_protein\n",
    "\n",
    "oz_of_protein = 3.5\n",
    "print(oz_of_protein)\n"
   ]
  },
  {
   "cell_type": "markdown",
   "metadata": {},
   "source": [
    "We can reassign variable values easily.\n",
    "\n",
    "Now, we assigned those variables one at a time. We also can assign multiple values at once:\n",
    "\n",
    "`side1, side2, side3 = \"carrots\", \"kimchi\", \"mushrooms\"`\n",
    "\n",
    "Update your side order to match your preferences - add whatever you want! "
   ]
  },
  {
   "cell_type": "code",
   "execution_count": 16,
   "metadata": {},
   "outputs": [],
   "source": [
    "# Code here to change sides \n",
    "side1, side2, side3 = \"carrots\", \"kimchi\", \"mushrooms\"\n"
   ]
  },
  {
   "cell_type": "markdown",
   "metadata": {},
   "source": [
    "Then use `print()` to confirm the variables changed."
   ]
  },
  {
   "cell_type": "code",
   "execution_count": 17,
   "metadata": {},
   "outputs": [
    {
     "name": "stdout",
     "output_type": "stream",
     "text": [
      "Side 1: carrots\n",
      "Side 2: kimchi\n",
      "Side 3: mushrooms\n"
     ]
    }
   ],
   "source": [
    "# Code here to confirm your changes\n",
    "# Print the updated values to confirm the changes\n",
    "print(\"Side 1:\", side1)\n",
    "print(\"Side 2:\", side2)\n",
    "print(\"Side 3:\", side3)"
   ]
  },
  {
   "cell_type": "markdown",
   "metadata": {},
   "source": [
    "### Variable Types\n",
    "\n",
    "Each variable in our bento box has a `type`. "
   ]
  },
  {
   "cell_type": "code",
   "execution_count": 18,
   "metadata": {
    "hide_input": false
   },
   "outputs": [
    {
     "data": {
      "text/plain": [
       "str"
      ]
     },
     "execution_count": 18,
     "metadata": {},
     "output_type": "execute_result"
    }
   ],
   "source": [
    "# Run this cell without changes\n",
    "type(side1)"
   ]
  },
  {
   "cell_type": "markdown",
   "metadata": {},
   "source": [
    "Run `type()` on some of the remaining variables to explore the type options."
   ]
  },
  {
   "cell_type": "code",
   "execution_count": 19,
   "metadata": {},
   "outputs": [
    {
     "name": "stdout",
     "output_type": "stream",
     "text": [
      "Type of main: <class 'str'>\n",
      "Type of protein: <class 'str'>\n",
      "Type of oz_of_protein: <class 'float'>\n",
      "Type of number_of_sides: <class 'int'>\n",
      "Type of side1: <class 'str'>\n",
      "Type of side2: <class 'str'>\n",
      "Type of side3: <class 'str'>\n",
      "Type of great_bento: <class 'bool'>\n"
     ]
    }
   ],
   "source": [
    "# Code here to check other variable types\n",
    "# Use type() to explore the types of these variables\n",
    "print(\"Type of main:\", type(main))\n",
    "print(\"Type of protein:\", type(protein))\n",
    "print(\"Type of oz_of_protein:\", type(oz_of_protein))\n",
    "print(\"Type of number_of_sides:\", type(number_of_sides))\n",
    "print(\"Type of side1:\", type(side1))\n",
    "print(\"Type of side2:\", type(side2))\n",
    "print(\"Type of side3:\", type(side3))\n",
    "print(\"Type of great_bento:\", type(great_bento))"
   ]
  },
  {
   "cell_type": "markdown",
   "metadata": {},
   "source": [
    "Each data type in Python has a set behavior in a lot of ways, and knowing what type your variable is can help you know exactly what you can do with it!"
   ]
  },
  {
   "cell_type": "markdown",
   "metadata": {},
   "source": [
    "### Control Flow Operators, If Statements and Conditionals\n",
    "\n",
    "Now what if you have food allergies, or want to be able to evaluate a variable before changing it for any other reason?\n",
    "\n",
    "Well you're in luck, cause we have control flow operators and if statements and conditionals!\n",
    "\n",
    "Control flow operators include:\n",
    "\n",
    "```python\n",
    "== # Is equal to?\n",
    "!= # Is not equal to? \n",
    ">  # Is greater than?\n",
    "<  # Is less than?\n",
    "<= # Is less than or equal to?\n",
    ">= # Is greater than or equal to?\n",
    "```\n",
    "\n",
    "Note that these **evaluate** something - this is different from setting a variable. With control flow operators like these, you're asking a question: \"Is this equal to that?\" \"Is this greater than that?\" etc!"
   ]
  },
  {
   "cell_type": "markdown",
   "metadata": {},
   "source": [
    "Decision making using these kinds of evaluators/control flow operators works like this:\n",
    "\n",
    "![how conditional works](images/decision_making.jpg)\n",
    "\n",
    "The [tools](https://docs.python.org/3/tutorial/controlflow.html) used in conditionals are `if`, `elif`, and `else`.\n",
    "\n",
    "For example: \n",
    "\n",
    "```python\n",
    "if (protein == 'salmon'):\n",
    "      print(\"I love salmon!\")\n",
    "```\n",
    "\n",
    "Will I like this bento box?"
   ]
  },
  {
   "cell_type": "code",
   "execution_count": 25,
   "metadata": {},
   "outputs": [
    {
     "name": "stdout",
     "output_type": "stream",
     "text": [
      "no carbs, please!\n"
     ]
    }
   ],
   "source": [
    "# Run this cell without changes\n",
    "if (main == 'rice'):\n",
    "    print(\"no carbs, please!\")\n",
    "elif(oz_of_protein >= 2.5):\n",
    "    print(\"too much!\")\n",
    "else:\n",
    "    print(\"I will like this bento box!\")"
   ]
  },
  {
   "cell_type": "markdown",
   "metadata": {},
   "source": [
    "Above, if the main isn't rice and if the amount of protein is less than 2.5, I think I'll like the box!\n",
    "\n",
    "Update the above code example, but rather than `print`, instead set `great_bento` equal to `True` or `False` depending on the values of the bento box ingredients - feel free to customize the checks based on your own personal preferences!"
   ]
  },
  {
   "cell_type": "code",
   "execution_count": 26,
   "metadata": {},
   "outputs": [
    {
     "name": "stdout",
     "output_type": "stream",
     "text": [
      "Is this a great bento box? False\n"
     ]
    }
   ],
   "source": [
    "# Update the code below, based on your own preferences\n",
    "# Update the logic to set great_bento based on preferences\n",
    "if main == 'rice':\n",
    "    great_bento = False\n",
    "elif oz_of_protein >= 2.5:\n",
    "    great_bento = False\n",
    "else:\n",
    "    great_bento = True\n",
    "\n",
    "# Print the result to confirm\n",
    "print(\"Is this a great bento box?\", great_bento)"
   ]
  },
  {
   "cell_type": "code",
   "execution_count": 22,
   "metadata": {},
   "outputs": [],
   "source": [
    "# Is great_bento True or False right now?\n",
    "### It returned False."
   ]
  },
  {
   "cell_type": "markdown",
   "metadata": {},
   "source": [
    "## Using Lists: indexing, appending, joining"
   ]
  },
  {
   "cell_type": "markdown",
   "metadata": {},
   "source": [
    "![dog-to-do-list gif from giphy](images/todolist-giphy.gif)\n",
    "\n",
    "Writing out all those ingredients individually is a pain, let's put them in a list!\n",
    "\n",
    "(You can retype your ingredient list, or use the variables you assigned above)"
   ]
  },
  {
   "cell_type": "code",
   "execution_count": 27,
   "metadata": {},
   "outputs": [
    {
     "name": "stdout",
     "output_type": "stream",
     "text": [
      "Bento Ingredients: ['rice', 'ginger chicken', 3.5, 3, 'carrots', 'kimchi', 'mushrooms']\n"
     ]
    }
   ],
   "source": [
    "# Replace None with relevant code\n",
    "bento_ingredients = [main, protein, oz_of_protein, number_of_sides, side1, side2, side3]\n",
    "# Print the list to confirm\n",
    "print(\"Bento Ingredients:\", bento_ingredients)"
   ]
  },
  {
   "cell_type": "markdown",
   "metadata": {},
   "source": [
    "Lists are ordered, meaning you can access the index number for an element:"
   ]
  },
  {
   "cell_type": "code",
   "execution_count": 28,
   "metadata": {
    "scrolled": true
   },
   "outputs": [
    {
     "data": {
      "text/plain": [
       "'carrots'"
      ]
     },
     "execution_count": 28,
     "metadata": {},
     "output_type": "execute_result"
    }
   ],
   "source": [
    "# Run this cell without changes\n",
    "bento_ingredients[4]"
   ]
  },
  {
   "cell_type": "markdown",
   "metadata": {},
   "source": [
    "Or you can grab ranges/slices of a list:"
   ]
  },
  {
   "cell_type": "code",
   "execution_count": 29,
   "metadata": {},
   "outputs": [
    {
     "data": {
      "text/plain": [
       "[3.5, 3, 'carrots']"
      ]
     },
     "execution_count": 29,
     "metadata": {},
     "output_type": "execute_result"
    }
   ],
   "source": [
    "# Run this cell without changes\n",
    "# Note that our 3rd side is the 4th element above, but we use 5 in the range\n",
    "# Play around with these numbers, and start to build some understanding of \n",
    "# which elements are where exactly in the list\n",
    "bento_ingredients[2:5]"
   ]
  },
  {
   "cell_type": "markdown",
   "metadata": {},
   "source": [
    "Add items to a list with `.append()` - add something else you like to your order!"
   ]
  },
  {
   "cell_type": "code",
   "execution_count": 30,
   "metadata": {},
   "outputs": [
    {
     "name": "stdout",
     "output_type": "stream",
     "text": [
      "Updated Bento Ingredients: ['rice', 'ginger chicken', 3.5, 3, 'carrots', 'kimchi', 'mushrooms', 'green tea']\n"
     ]
    }
   ],
   "source": [
    "# Code here to add to your list\n",
    "# Add an additional item to the list\n",
    "bento_ingredients.append(\"green tea\")\n",
    "\n",
    "# Print the updated list to confirm\n",
    "print(\"Updated Bento Ingredients:\", bento_ingredients)"
   ]
  },
  {
   "cell_type": "markdown",
   "metadata": {},
   "source": [
    "If you don't want to keep that last item, you can use `.pop()` to remove it."
   ]
  },
  {
   "cell_type": "code",
   "execution_count": 31,
   "metadata": {},
   "outputs": [
    {
     "name": "stdout",
     "output_type": "stream",
     "text": [
      "Bento Ingredients after removing: ['rice', 'ginger chicken', 3.5, 3, 'carrots', 'kimchi', 'mushrooms']\n"
     ]
    }
   ],
   "source": [
    "# Code here to test that out\n",
    "bento_ingredients.pop()\n",
    "\n",
    "# Print the updated list to confirm the removal\n",
    "print(\"Bento Ingredients after removing:\", bento_ingredients)"
   ]
  },
  {
   "cell_type": "code",
   "execution_count": null,
   "metadata": {},
   "outputs": [],
   "source": [
    "# Now check what your list looks like - is that last item still there?\n",
    "##The last item \"green tea\" was removed."
   ]
  },
  {
   "cell_type": "markdown",
   "metadata": {},
   "source": [
    "Now, let's put our bento box in a readable format using `join`:"
   ]
  },
  {
   "cell_type": "code",
   "execution_count": 32,
   "metadata": {},
   "outputs": [
    {
     "ename": "TypeError",
     "evalue": "sequence item 2: expected str instance, float found",
     "output_type": "error",
     "traceback": [
      "\u001b[1;31m---------------------------------------------------------------------------\u001b[0m",
      "\u001b[1;31mTypeError\u001b[0m                                 Traceback (most recent call last)",
      "Cell \u001b[1;32mIn[32], line 3\u001b[0m\n\u001b[0;32m      1\u001b[0m \u001b[38;5;66;03m# Run this cell without changes\u001b[39;00m\n\u001b[0;32m      2\u001b[0m \u001b[38;5;28mprint\u001b[39m(\u001b[38;5;124m\"\u001b[39m\u001b[38;5;124mI\u001b[39m\u001b[38;5;124m'\u001b[39m\u001b[38;5;124md like my bento box to contain: \u001b[39m\u001b[38;5;124m\"\u001b[39m \u001b[38;5;241m+\u001b[39m\n\u001b[1;32m----> 3\u001b[0m       \u001b[38;5;124m\"\u001b[39m\u001b[38;5;124m, \u001b[39m\u001b[38;5;124m\"\u001b[39m\u001b[38;5;241m.\u001b[39mjoin(bento_ingredients[:\u001b[38;5;241m-\u001b[39m\u001b[38;5;241m1\u001b[39m]) \u001b[38;5;241m+\u001b[39m \u001b[38;5;124m\"\u001b[39m\u001b[38;5;124m, and \u001b[39m\u001b[38;5;124m\"\u001b[39m \u001b[38;5;241m+\u001b[39m bento_ingredients[\u001b[38;5;241m-\u001b[39m\u001b[38;5;241m1\u001b[39m])\n",
      "\u001b[1;31mTypeError\u001b[0m: sequence item 2: expected str instance, float found"
     ]
    }
   ],
   "source": [
    "# Run this cell without changes\n",
    "print(\"I'd like my bento box to contain: \" +\n",
    "      \", \".join(bento_ingredients[:-1]) + \", and \" + bento_ingredients[-1])"
   ]
  },
  {
   "cell_type": "markdown",
   "metadata": {},
   "source": [
    "**New thing!** F-strings allow you to easily format strings to add variables or elements from an iterable (like a list). You can also use `.format()` in a similar way."
   ]
  },
  {
   "cell_type": "code",
   "execution_count": 33,
   "metadata": {},
   "outputs": [
    {
     "name": "stdout",
     "output_type": "stream",
     "text": [
      "My bento box will include rice and ginger chicken.\n"
     ]
    }
   ],
   "source": [
    "# Run this cell without changes\n",
    "# This is an f-string!\n",
    "print(f\"My bento box will include {bento_ingredients[0]} and {bento_ingredients[1]}.\")"
   ]
  },
  {
   "cell_type": "code",
   "execution_count": 34,
   "metadata": {},
   "outputs": [
    {
     "name": "stdout",
     "output_type": "stream",
     "text": [
      "My bento box will include rice and ginger chicken.\n"
     ]
    }
   ],
   "source": [
    "# The above cell is the same as:\n",
    "print(\"My bento box will include {} and {}.\".format(bento_ingredients[0], bento_ingredients[1]))"
   ]
  },
  {
   "cell_type": "markdown",
   "metadata": {},
   "source": [
    "**Think about it:** How is the f-string/format working differently from the join we did before?\n",
    "\n",
    "- \n"
   ]
  },
  {
   "cell_type": "markdown",
   "metadata": {},
   "source": [
    "## Using Dictionaries: Identifying, Creating, Navigating"
   ]
  },
  {
   "cell_type": "markdown",
   "metadata": {},
   "source": [
    "<img src=\"images/dictionary.jpeg\" alt=\"dictionary image from https://images.pexels.com/photos/270233/pexels-photo-270233.jpeg\" width=600>\n",
    "\n",
    "No, not that kind! \n",
    "\n",
    "With your list above, someone would need to tell you that \"rice\" is the main and \"salmon\" is the protein. \n",
    "\n",
    "Dictionaries let you assign **key** and **value** pairs, which connects a key like \"main\" to a value like \"rice\". Rather than using **indexing**, you use **keys** to return values.\n",
    "\n",
    "Update your bento box to be a dictionary. There are multiple ways to do this! You can type all of your details out, matching to the information we have from the very beginning of this notebook, or you can use your list and a new list of keys to zip your bento box together.\n",
    "\n",
    "> ### TIP: this will be easier you structure your dictionary to have at least a `main` and a `protein`\n",
    "> (Only necessary because of some exercises we'll run later in this notebook!)\n",
    "\n",
    "Make sure to run `type()` on your dictionary to confirm it is successful."
   ]
  },
  {
   "cell_type": "code",
   "execution_count": null,
   "metadata": {
    "scrolled": true
   },
   "outputs": [],
   "source": [
    "# Here's an example of zipping two lists together to form a dictionary\n",
    "bento_keys = [\"main\", \"protein\", \"side\"]\n",
    "bento_values = [\"rice\", \"tempura shrimp\", \"miso soup\"]\n",
    "\n",
    "bento_dict = dict(zip(bento_keys, bento_values))\n",
    "\n",
    "print(bento_dict)\n",
    "print(type(bento_dict))"
   ]
  },
  {
   "cell_type": "code",
   "execution_count": 35,
   "metadata": {},
   "outputs": [
    {
     "name": "stdout",
     "output_type": "stream",
     "text": [
      "Bento Dictionary: {'main': 'rice', 'protein': 'ginger chicken', 'oz_of_protein': 3.5, 'number_of_sides': 3, 'side1': 'carrots', 'side2': 'kimchi', 'side3': 'mushrooms'}\n",
      "Type of bento_dict: <class 'dict'>\n"
     ]
    }
   ],
   "source": [
    "# Code here to create a dictionary from your bento ingredients\n",
    "# Change things up to whatever you like!\n",
    "# Lists for keys and values\n",
    "bento_keys = [\"main\", \"protein\", \"oz_of_protein\", \"number_of_sides\", \"side1\", \"side2\", \"side3\"]\n",
    "bento_values = [main, protein, oz_of_protein, number_of_sides, side1, side2, side3]\n",
    "\n",
    "# Create a dictionary using zip\n",
    "bento_dict = dict(zip(bento_keys, bento_values))\n",
    "\n",
    "# Print the dictionary to confirm\n",
    "print(\"Bento Dictionary:\", bento_dict)\n",
    "print(\"Type of bento_dict:\", type(bento_dict))"
   ]
  },
  {
   "cell_type": "code",
   "execution_count": 36,
   "metadata": {},
   "outputs": [
    {
     "name": "stdout",
     "output_type": "stream",
     "text": [
      "Type of bento_dict: <class 'dict'>\n"
     ]
    }
   ],
   "source": [
    "# Code here to check your work - check type, and print your dictionary\n",
    "# Check the type of the dictionary\n",
    "print(\"Type of bento_dict:\", type(bento_dict))\n",
    "\n"
   ]
  },
  {
   "cell_type": "markdown",
   "metadata": {},
   "source": [
    "You use the key of the dictionary to access its value, for example `bento_box['main']` "
   ]
  },
  {
   "cell_type": "code",
   "execution_count": 37,
   "metadata": {},
   "outputs": [
    {
     "name": "stdout",
     "output_type": "stream",
     "text": [
      "Main Dish: rice\n",
      "Protein Dish: ginger chicken\n",
      "First Side: carrots\n"
     ]
    }
   ],
   "source": [
    "# Practice accessing elements in your bento box\n",
    "# Accessing elements in the dictionary\n",
    "main_dish = bento_dict['main']\n",
    "protein_dish = bento_dict['protein']\n",
    "first_side = bento_dict['side1']\n",
    "\n",
    "# Print accessed elements\n",
    "print(\"Main Dish:\", main_dish)\n",
    "print(\"Protein Dish:\", protein_dish)\n",
    "print(\"First Side:\", first_side)"
   ]
  },
  {
   "cell_type": "markdown",
   "metadata": {},
   "source": [
    "Let's say we want to combine EVERYONE'S bento dictionaries - we can nest those dictonaries inside of a list!\n",
    "\n",
    "Let's get a few different bento box orders into a group order - use Slack to send your dictionaries to each other (you'll want to send everyone the dictionary output, not the code you wrote if you used zip to create your dictionary). \n",
    "\n",
    "> **Don't forget - this will be easier if all of the dictionaries are structured the same.**\n",
    "\n",
    "Grab at least two other orders and create a list of different dictionaries:"
   ]
  },
  {
   "cell_type": "code",
   "execution_count": 38,
   "metadata": {},
   "outputs": [
    {
     "name": "stdout",
     "output_type": "stream",
     "text": [
      "Group Order: [{'main': 'rice', 'protein': 'ginger chicken', 'oz_of_protein': 3.5, 'number_of_sides': 3, 'side1': 'edamame', 'side2': 'tempura', 'side3': 'miso soup'}, {'main': 'noodles', 'protein': 'tofu', 'oz_of_protein': 4.0, 'number_of_sides': 2, 'side1': 'seaweed salad', 'side2': 'dumplings'}, {'main': 'sushi', 'protein': 'salmon', 'oz_of_protein': 5.0, 'number_of_sides': 3, 'side1': 'wasabi', 'side2': 'ginger', 'side3': 'soy sauce'}]\n"
     ]
    }
   ],
   "source": [
    "# Code here to combine your group order\n",
    "# Colleague 1's bento box order\n",
    "bento_dict_1 = {\n",
    "    \"main\": \"rice\",\n",
    "    \"protein\": \"ginger chicken\",\n",
    "    \"oz_of_protein\": 3.5,\n",
    "    \"number_of_sides\": 3,\n",
    "    \"side1\": \"edamame\",\n",
    "    \"side2\": \"tempura\",\n",
    "    \"side3\": \"miso soup\"\n",
    "}\n",
    "\n",
    "# Colleague 2's bento box order\n",
    "bento_dict_2 = {\n",
    "    \"main\": \"noodles\",\n",
    "    \"protein\": \"tofu\",\n",
    "    \"oz_of_protein\": 4.0,\n",
    "    \"number_of_sides\": 2,\n",
    "    \"side1\": \"seaweed salad\",\n",
    "    \"side2\": \"dumplings\"\n",
    "}\n",
    "\n",
    "# Your bento box order\n",
    "bento_dict_3 = {\n",
    "    \"main\": \"sushi\",\n",
    "    \"protein\": \"salmon\",\n",
    "    \"oz_of_protein\": 5.0,\n",
    "    \"number_of_sides\": 3,\n",
    "    \"side1\": \"wasabi\",\n",
    "    \"side2\": \"ginger\",\n",
    "    \"side3\": \"soy sauce\"\n",
    "}\n",
    "\n",
    "# Combine all bento box orders into a list\n",
    "group_order = [bento_dict_1, bento_dict_2, bento_dict_3]\n",
    "\n",
    "# Print the group order to confirm\n",
    "print(\"Group Order:\", group_order)"
   ]
  },
  {
   "cell_type": "code",
   "execution_count": 41,
   "metadata": {},
   "outputs": [
    {
     "name": "stdout",
     "output_type": "stream",
     "text": [
      "Group Order: [{'main': 'rice', 'protein': 'ginger chicken', 'oz_of_protein': 3.5, 'number_of_sides': 3, 'side1': 'edamame', 'side2': 'tempura', 'side3': 'miso soup'}, {'main': 'noodles', 'protein': 'tofu', 'oz_of_protein': 4.0, 'number_of_sides': 2, 'side1': 'seaweed salad', 'side2': 'dumplings'}, {'main': 'sushi', 'protein': 'salmon', 'oz_of_protein': 5.0, 'number_of_sides': 3, 'side1': 'wasabi', 'side2': 'ginger', 'side3': 'soy sauce'}]\n"
     ]
    }
   ],
   "source": [
    "# Code here to check your work\n",
    "print(\"Group Order:\" , group_order)"
   ]
  },
  {
   "cell_type": "markdown",
   "metadata": {},
   "source": [
    "But what if we also want to keep track of whose order is whose? Instead of doing a list of dictionaries, we can do a nested dictionary of dictionaries! \n",
    "\n",
    "![Dictionaries inside dictionaries meme](images/dictionariesindictionaries.jpeg)\n",
    "\n",
    "Create a dictionary of dictionaries, where the key is the name of the person ordering and the value is their bento dictionary:"
   ]
  },
  {
   "cell_type": "code",
   "execution_count": 42,
   "metadata": {},
   "outputs": [
    {
     "name": "stdout",
     "output_type": "stream",
     "text": [
      "Group Order Dictionary: {'Alice': {'main': 'rice', 'protein': 'ginger chicken', 'oz_of_protein': 3.5, 'number_of_sides': 3, 'side1': 'edamame', 'side2': 'tempura', 'side3': 'miso soup'}, 'Bob': {'main': 'noodles', 'protein': 'tofu', 'oz_of_protein': 4.0, 'number_of_sides': 2, 'side1': 'seaweed salad', 'side2': 'dumplings'}, 'Charlie': {'main': 'sushi', 'protein': 'salmon', 'oz_of_protein': 5.0, 'number_of_sides': 3, 'side1': 'wasabi', 'side2': 'ginger', 'side3': 'soy sauce'}}\n"
     ]
    }
   ],
   "source": [
    "# Code here to create your nested dictionaries\n",
    "# Create a nested dictionary of dictionaries\n",
    "group_order_dict = {\n",
    "    \"Alice\": bento_dict_1,\n",
    "    \"Bob\": bento_dict_2,\n",
    "    \"Charlie\": bento_dict_3\n",
    "}\n",
    "\n",
    "# Print the nested dictionary to confirm\n",
    "print(\"Group Order Dictionary:\", group_order_dict)"
   ]
  },
  {
   "cell_type": "code",
   "execution_count": 43,
   "metadata": {},
   "outputs": [
    {
     "name": "stdout",
     "output_type": "stream",
     "text": [
      "Group Order Dictionary: {'Alice': {'main': 'rice', 'protein': 'ginger chicken', 'oz_of_protein': 3.5, 'number_of_sides': 3, 'side1': 'edamame', 'side2': 'tempura', 'side3': 'miso soup'}, 'Bob': {'main': 'noodles', 'protein': 'tofu', 'oz_of_protein': 4.0, 'number_of_sides': 2, 'side1': 'seaweed salad', 'side2': 'dumplings'}, 'Charlie': {'main': 'sushi', 'protein': 'salmon', 'oz_of_protein': 5.0, 'number_of_sides': 3, 'side1': 'wasabi', 'side2': 'ginger', 'side3': 'soy sauce'}}\n"
     ]
    }
   ],
   "source": [
    "# Check your work\n",
    "# Print the nested dictionary to confirm\n",
    "print(\"Group Order Dictionary:\", group_order_dict)"
   ]
  },
  {
   "cell_type": "markdown",
   "metadata": {},
   "source": [
    "Now, if we wanted a list of people who ordered bento boxes, we could grab a list of those names by using `.keys()`"
   ]
  },
  {
   "cell_type": "code",
   "execution_count": 44,
   "metadata": {},
   "outputs": [
    {
     "name": "stdout",
     "output_type": "stream",
     "text": [
      "List of Names: ['Alice', 'Bob', 'Charlie']\n"
     ]
    }
   ],
   "source": [
    "# Code here to grab a list of who you have orders for\n",
    "# Colleague 1's bento box order\n",
    "bento_dict_1 = {\n",
    "    \"main\": \"rice\",\n",
    "    \"protein\": \"ginger chicken\",\n",
    "    \"oz_of_protein\": 3.5,\n",
    "    \"number_of_sides\": 3,\n",
    "    \"side1\": \"edamame\",\n",
    "    \"side2\": \"tempura\",\n",
    "    \"side3\": \"miso soup\"\n",
    "}\n",
    "\n",
    "# Colleague 2's bento box order\n",
    "bento_dict_2 = {\n",
    "    \"main\": \"noodles\",\n",
    "    \"protein\": \"tofu\",\n",
    "    \"oz_of_protein\": 4.0,\n",
    "    \"number_of_sides\": 2,\n",
    "    \"side1\": \"seaweed salad\",\n",
    "    \"side2\": \"dumplings\"\n",
    "}\n",
    "\n",
    "# Your bento box order\n",
    "bento_dict_3 = {\n",
    "    \"main\": \"sushi\",\n",
    "    \"protein\": \"salmon\",\n",
    "    \"oz_of_protein\": 5.0,\n",
    "    \"number_of_sides\": 3,\n",
    "    \"side1\": \"wasabi\",\n",
    "    \"side2\": \"ginger\",\n",
    "    \"side3\": \"soy sauce\"\n",
    "}\n",
    "\n",
    "# Create a nested dictionary of dictionaries\n",
    "group_order_dict = {\n",
    "    \"Alice\": bento_dict_1,\n",
    "    \"Bob\": bento_dict_2,\n",
    "    \"Charlie\": bento_dict_3\n",
    "}\n",
    "\n",
    "# Extract the list of names\n",
    "names_list = list(group_order_dict.keys())\n",
    "\n",
    "# Print the list of names to confirm\n",
    "print(\"List of Names:\", names_list)"
   ]
  },
  {
   "cell_type": "code",
   "execution_count": 45,
   "metadata": {
    "scrolled": true
   },
   "outputs": [
    {
     "name": "stdout",
     "output_type": "stream",
     "text": [
      "List of Names: ['Alice', 'Bob', 'Charlie']\n"
     ]
    }
   ],
   "source": [
    "# Check your work\n",
    "# Print the list of names to confirm\n",
    "print(\"List of Names:\", names_list)"
   ]
  },
  {
   "cell_type": "markdown",
   "metadata": {},
   "source": [
    "## For loops\n",
    "\n",
    "Okay, is anyone confused about for loops? Let's practice.\n",
    "\n",
    "Write a loop to print the main ingredient in everyone's bento order. \n",
    "\n",
    "(This is easier if everyone named an ingredient 'main' in their dictionary, but can be done even if that's not the case - it's just more complicated.)\n",
    "\n",
    "Remember! You have already defined a list of everyone's names from above! You can use that in your for loop if you like."
   ]
  },
  {
   "cell_type": "code",
   "execution_count": 46,
   "metadata": {},
   "outputs": [
    {
     "name": "stdout",
     "output_type": "stream",
     "text": [
      "Alice's main ingredient: rice\n",
      "Bob's main ingredient: noodles\n",
      "Charlie's main ingredient: sushi\n"
     ]
    }
   ],
   "source": [
    "# Code here to write a for loop that prints each main\n",
    "# Colleague 1's bento box order\n",
    "bento_dict_1 = {\n",
    "    \"main\": \"rice\",\n",
    "    \"protein\": \"ginger chicken\",\n",
    "    \"oz_of_protein\": 3.5,\n",
    "    \"number_of_sides\": 3,\n",
    "    \"side1\": \"edamame\",\n",
    "    \"side2\": \"tempura\",\n",
    "    \"side3\": \"miso soup\"\n",
    "}\n",
    "\n",
    "# Colleague 2's bento box order\n",
    "bento_dict_2 = {\n",
    "    \"main\": \"noodles\",\n",
    "    \"protein\": \"tofu\",\n",
    "    \"oz_of_protein\": 4.0,\n",
    "    \"number_of_sides\": 2,\n",
    "    \"side1\": \"seaweed salad\",\n",
    "    \"side2\": \"dumplings\"\n",
    "}\n",
    "\n",
    "# Your bento box order\n",
    "bento_dict_3 = {\n",
    "    \"main\": \"sushi\",\n",
    "    \"protein\": \"salmon\",\n",
    "    \"oz_of_protein\": 5.0,\n",
    "    \"number_of_sides\": 3,\n",
    "    \"side1\": \"wasabi\",\n",
    "    \"side2\": \"ginger\",\n",
    "    \"side3\": \"soy sauce\"\n",
    "}\n",
    "\n",
    "# Create a nested dictionary of dictionaries\n",
    "group_order_dict = {\n",
    "    \"Alice\": bento_dict_1,\n",
    "    \"Bob\": bento_dict_2,\n",
    "    \"Charlie\": bento_dict_3\n",
    "}\n",
    "\n",
    "# Extract the list of names\n",
    "names_list = list(group_order_dict.keys())\n",
    "\n",
    "# For loop to print the main ingredient in everyone's bento order\n",
    "for name in names_list:\n",
    "    main_ingredient = group_order_dict[name][\"main\"]\n",
    "    print(f\"{name}'s main ingredient: {main_ingredient}\")"
   ]
  },
  {
   "cell_type": "markdown",
   "metadata": {},
   "source": [
    "### Bringing everything together!\n",
    "\n",
    "Now, using the names from the nested dictionaries, can we create a list of tuples with each name along with the protein they want? \n",
    "\n",
    "(Again, easier if everyone named an ingredient 'protein' in their dictionary...)\n",
    "\n",
    "([What even is a tuple?](http://openbookproject.net/thinkcs/python/english3e/tuples.html) It's hard to distinguish them from lists, except they use `()` instead of `[]`. The takeaway here is that tuples create a single immutable object when grouping data. If you're having trouble, try to use the linked resource to create your list of tuples below.)"
   ]
  },
  {
   "cell_type": "code",
   "execution_count": 47,
   "metadata": {},
   "outputs": [
    {
     "name": "stdout",
     "output_type": "stream",
     "text": [
      "List of Tuples (Name, Protein): [('Alice', 'ginger chicken'), ('Bob', 'tofu'), ('Charlie', 'salmon')]\n"
     ]
    }
   ],
   "source": [
    "# Code here to create a list of tuples for each person and their protein\n",
    "# Colleague 1's bento box order\n",
    "bento_dict_1 = {\n",
    "    \"main\": \"rice\",\n",
    "    \"protein\": \"ginger chicken\",\n",
    "    \"oz_of_protein\": 3.5,\n",
    "    \"number_of_sides\": 3,\n",
    "    \"side1\": \"edamame\",\n",
    "    \"side2\": \"tempura\",\n",
    "    \"side3\": \"miso soup\"\n",
    "}\n",
    "\n",
    "# Colleague 2's bento box order\n",
    "bento_dict_2 = {\n",
    "    \"main\": \"noodles\",\n",
    "    \"protein\": \"tofu\",\n",
    "    \"oz_of_protein\": 4.0,\n",
    "    \"number_of_sides\": 2,\n",
    "    \"side1\": \"seaweed salad\",\n",
    "    \"side2\": \"dumplings\"\n",
    "}\n",
    "\n",
    "# Your bento box order\n",
    "bento_dict_3 = {\n",
    "    \"main\": \"sushi\",\n",
    "    \"protein\": \"salmon\",\n",
    "    \"oz_of_protein\": 5.0,\n",
    "    \"number_of_sides\": 3,\n",
    "    \"side1\": \"wasabi\",\n",
    "    \"side2\": \"ginger\",\n",
    "    \"side3\": \"soy sauce\"\n",
    "}\n",
    "\n",
    "# Create a nested dictionary of dictionaries\n",
    "group_order_dict = {\n",
    "    \"Alice\": bento_dict_1,\n",
    "    \"Bob\": bento_dict_2,\n",
    "    \"Charlie\": bento_dict_3\n",
    "}\n",
    "\n",
    "# Extract the list of names\n",
    "names_list = list(group_order_dict.keys())\n",
    "\n",
    "# Create a list of tuples for each person and their protein\n",
    "protein_list = [(name, group_order_dict[name][\"protein\"]) for name in names_list]\n",
    "\n",
    "# Print the list of tuples to confirm\n",
    "print(\"List of Tuples (Name, Protein):\", protein_list)"
   ]
  },
  {
   "cell_type": "code",
   "execution_count": 48,
   "metadata": {},
   "outputs": [
    {
     "name": "stdout",
     "output_type": "stream",
     "text": [
      "List of Tuples (Name, Protein): [('Alice', 'ginger chicken'), ('Bob', 'tofu'), ('Charlie', 'salmon')]\n"
     ]
    }
   ],
   "source": [
    "# Code here to check your work\n",
    "# Tuple list will look like [('person', 'protein'), ...]\n",
    "# Print the list of tuples to confirm\n",
    "print(\"List of Tuples (Name, Protein):\", protein_list)"
   ]
  },
  {
   "cell_type": "markdown",
   "metadata": {},
   "source": [
    "Now, print each of your orders as readable sentences. \n",
    "\n",
    "You can use `.join()` or f-strings or `.format()` - no wrong way to do it! You may even want to use nested for loops here!"
   ]
  },
  {
   "cell_type": "code",
   "execution_count": 50,
   "metadata": {},
   "outputs": [
    {
     "name": "stdout",
     "output_type": "stream",
     "text": [
      "Alice ordered a bento box with rice as the main, ginger chicken as the protein (3.5 oz), and sides: edamame, tempura, miso soup.\n",
      "Bob ordered a bento box with noodles as the main, tofu as the protein (4.0 oz), and sides: seaweed salad, dumplings.\n",
      "Charlie ordered a bento box with sushi as the main, salmon as the protein (5.0 oz), and sides: wasabi, ginger, soy sauce.\n"
     ]
    }
   ],
   "source": [
    "# Code here to print each order as a human-readable sentence\n",
    "# Colleague 1's bento box order\n",
    "bento_dict_1 = {\n",
    "    \"main\": \"rice\",\n",
    "    \"protein\": \"ginger chicken\",\n",
    "    \"oz_of_protein\": 3.5,\n",
    "    \"number_of_sides\": 3,\n",
    "    \"side1\": \"edamame\",\n",
    "    \"side2\": \"tempura\",\n",
    "    \"side3\": \"miso soup\"\n",
    "}\n",
    "\n",
    "# Colleague 2's bento box order\n",
    "bento_dict_2 = {\n",
    "    \"main\": \"noodles\",\n",
    "    \"protein\": \"tofu\",\n",
    "    \"oz_of_protein\": 4.0,\n",
    "    \"number_of_sides\": 2,\n",
    "    \"side1\": \"seaweed salad\",\n",
    "    \"side2\": \"dumplings\"\n",
    "}\n",
    "\n",
    "# Your bento box order\n",
    "bento_dict_3 = {\n",
    "    \"main\": \"sushi\",\n",
    "    \"protein\": \"salmon\",\n",
    "    \"oz_of_protein\": 5.0,\n",
    "    \"number_of_sides\": 3,\n",
    "    \"side1\": \"wasabi\",\n",
    "    \"side2\": \"ginger\",\n",
    "    \"side3\": \"soy sauce\"\n",
    "}\n",
    "\n",
    "# Create a nested dictionary of dictionaries\n",
    "group_order_dict = {\n",
    "    \"Alice\": bento_dict_1,\n",
    "    \"Bob\": bento_dict_2,\n",
    "    \"Charlie\": bento_dict_3\n",
    "}\n",
    "\n",
    "# Extract the list of names\n",
    "names_list = list(group_order_dict.keys())\n",
    "\n",
    "# Print each order as a human-readable sentence\n",
    "for name in names_list:\n",
    "    order = group_order_dict[name]\n",
    "    sides = ', '.join([order[f\"side{i+1}\"] for i in range(order[\"number_of_sides\"])])\n",
    "    print(f\"{name} ordered a bento box with {order['main']} as the main, {order['protein']} as the protein ({order['oz_of_protein']} oz), and sides: {sides}.\")"
   ]
  },
  {
   "cell_type": "markdown",
   "metadata": {},
   "source": [
    "### Reflection:\n",
    "\n",
    "What's a situation where you could use lists and loops to automate a process?\n",
    "\n",
    "- \n"
   ]
  }
 ],
 "metadata": {
  "kernelspec": {
   "display_name": "Python 3 (ipykernel)",
   "language": "python",
   "name": "python3"
  },
  "language_info": {
   "codemirror_mode": {
    "name": "ipython",
    "version": 3
   },
   "file_extension": ".py",
   "mimetype": "text/x-python",
   "name": "python",
   "nbconvert_exporter": "python",
   "pygments_lexer": "ipython3",
   "version": "3.12.4"
  }
 },
 "nbformat": 4,
 "nbformat_minor": 4
}
